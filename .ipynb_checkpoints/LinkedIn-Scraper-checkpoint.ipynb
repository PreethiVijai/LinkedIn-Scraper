{
 "cells": [
  {
   "cell_type": "code",
   "execution_count": 93,
   "metadata": {},
   "outputs": [],
   "source": [
    "from selenium import webdriver \n",
    "from selenium.webdriver.common.keys import Keys\n",
    "from selenium.common.exceptions import NoSuchElementException\n",
    "import csv\n",
    "import pymongo \n",
    "import time\n",
    "\n"
   ]
  },
  {
   "cell_type": "markdown",
   "metadata": {},
   "source": [
    "establishing client-db link"
   ]
  },
  {
   "cell_type": "code",
   "execution_count": 94,
   "metadata": {},
   "outputs": [],
   "source": [
    "myclient = pm.MongoClient(\"mongodb://localhost:27017/\")\n",
    "mydb = myclient[\"LinkedIn_repo\"] #LinkedIn_repo is the database\n",
    "mycol = mydb[\"profiles\"] #profiles is the collection"
   ]
  },
  {
   "cell_type": "markdown",
   "metadata": {},
   "source": [
    "Setting up login details to linkedIn and a chromedriver to launch chrome"
   ]
  },
  {
   "cell_type": "code",
   "execution_count": 104,
   "metadata": {},
   "outputs": [],
   "source": [
    "email = ''\n",
    "pwd = ''\n",
    "chrome_driver = ''\n",
    "link = '' #This is the link we want to scrape\n",
    "with open('Config.txt','r') as file:\n",
    "    lines = file.readlines()\n",
    "    email = lines[0].split()[1].strip()\n",
    "    pwd = lines[1].split()[1].strip()\n",
    "    chrome_driver = lines[2].split()[1].strip()\n",
    "    link = lines[3].split()[1].strip()\n",
    "file.close()\n",
    "\n",
    "browser=webdriver.Chrome(chrome_driver)\n",
    "browser.get('https://www.linkedin.com')\n",
    "time.sleep(1)\n",
    "browser.find_element_by_xpath('/html/body/nav/section[2]/form/div[1]/div[1]/input').send_keys(email)\n",
    "time.sleep(1)\n",
    "browser.find_element_by_xpath('/html/body/nav/section[2]/form/div[1]/div[2]/input').send_keys(pwd)\n",
    "time.sleep(1)\n",
    "browser.find_element_by_xpath('/html/body/nav/section[2]/form/div[2]/button').click()\n",
    "time.sleep(1)\n",
    "browser.get(link)\n",
    "time.sleep(1)\n"
   ]
  },
  {
   "cell_type": "markdown",
   "metadata": {},
   "source": [
    "Code to get the comments in a LinkedIn post"
   ]
  },
  {
   "cell_type": "code",
   "execution_count": 105,
   "metadata": {},
   "outputs": [],
   "source": [
    "def get_comments():\n",
    "    try:\n",
    "        browser.find_element_by_xpath(\"//button[contains(@class,'button comments-comments-list__show-previous-button t-12 t-black t-normal hoverable-link-text')]\")\n",
    "    except NoSuchElementException:\n",
    "        return False\n",
    "    return True"
   ]
  },
  {
   "cell_type": "markdown",
   "metadata": {},
   "source": [
    "Code to examine an element in source code"
   ]
  },
  {
   "cell_type": "code",
   "execution_count": 106,
   "metadata": {},
   "outputs": [],
   "source": [
    "def check_element(element):\n",
    "    try:\n",
    "        browser.find_element_by_xpath(element)\n",
    "    except NoSuchElementException:\n",
    "        return False\n",
    "    return True"
   ]
  },
  {
   "cell_type": "code",
   "execution_count": 107,
   "metadata": {},
   "outputs": [
    {
     "ename": "NoSuchWindowException",
     "evalue": "Message: no such window: target window already closed\nfrom unknown error: web view not found\n  (Session info: chrome=79.0.3945.130)\nStacktrace:\n0   chromedriver                        0x00000001017abe29 chromedriver + 3817001\n1   chromedriver                        0x000000010173ff33 chromedriver + 3374899\n2   chromedriver                        0x00000001014c08bf chromedriver + 755903\n3   chromedriver                        0x00000001014ab90c chromedriver + 669964\n4   chromedriver                        0x0000000101449e35 chromedriver + 269877\n5   chromedriver                        0x000000010145572d chromedriver + 317229\n6   chromedriver                        0x00000001014494a3 chromedriver + 267427\n7   chromedriver                        0x0000000101422c0d chromedriver + 109581\n8   chromedriver                        0x0000000101423ba5 chromedriver + 113573\n9   chromedriver                        0x000000010176df6f chromedriver + 3563375\n10  chromedriver                        0x000000010177ae3a chromedriver + 3616314\n11  chromedriver                        0x000000010177abf7 chromedriver + 3615735\n12  chromedriver                        0x000000010174d699 chromedriver + 3430041\n13  chromedriver                        0x000000010177b692 chromedriver + 3618450\n14  chromedriver                        0x0000000101761e17 chromedriver + 3513879\n15  chromedriver                        0x0000000101790fe4 chromedriver + 3706852\n16  chromedriver                        0x00000001017b1fc7 chromedriver + 3841991\n17  libsystem_pthread.dylib             0x00007fff736b3d36 _pthread_start + 125\n18  libsystem_pthread.dylib             0x00007fff736b058f thread_start + 15\n",
     "output_type": "error",
     "traceback": [
      "\u001b[0;31m---------------------------------------------------------------------------\u001b[0m",
      "\u001b[0;31mNoSuchWindowException\u001b[0m                     Traceback (most recent call last)",
      "\u001b[0;32m<ipython-input-107-7fa83a49e57a>\u001b[0m in \u001b[0;36m<module>\u001b[0;34m\u001b[0m\n\u001b[1;32m      4\u001b[0m     \u001b[0mcomments\u001b[0m \u001b[0;34m=\u001b[0m \u001b[0mbrowser\u001b[0m\u001b[0;34m.\u001b[0m\u001b[0mfind_elements_by_xpath\u001b[0m\u001b[0;34m(\u001b[0m\u001b[0;34m\"//a[contains(@class,'comments-post-meta__profile-link t-16 t-black t-bold tap-target ember-view')]\"\u001b[0m\u001b[0;34m)\u001b[0m\u001b[0;34m\u001b[0m\u001b[0;34m\u001b[0m\u001b[0m\n\u001b[1;32m      5\u001b[0m     \u001b[0;32mfor\u001b[0m \u001b[0mcomment\u001b[0m \u001b[0;32min\u001b[0m \u001b[0mcomments\u001b[0m\u001b[0;34m:\u001b[0m\u001b[0;34m\u001b[0m\u001b[0;34m\u001b[0m\u001b[0m\n\u001b[0;32m----> 6\u001b[0;31m         \u001b[0mlink\u001b[0m \u001b[0;34m=\u001b[0m \u001b[0mcomment\u001b[0m\u001b[0;34m.\u001b[0m\u001b[0mget_attribute\u001b[0m\u001b[0;34m(\u001b[0m\u001b[0;34m'href'\u001b[0m\u001b[0;34m)\u001b[0m\u001b[0;34m\u001b[0m\u001b[0;34m\u001b[0m\u001b[0m\n\u001b[0m\u001b[1;32m      7\u001b[0m         \u001b[0;32mif\u001b[0m \u001b[0;32mnot\u001b[0m \u001b[0;34m(\u001b[0m\u001b[0mlink\u001b[0m \u001b[0;32min\u001b[0m \u001b[0mlink_list\u001b[0m\u001b[0;34m)\u001b[0m\u001b[0;34m:\u001b[0m\u001b[0;34m\u001b[0m\u001b[0;34m\u001b[0m\u001b[0m\n\u001b[1;32m      8\u001b[0m             \u001b[0mlink_list\u001b[0m\u001b[0;34m.\u001b[0m\u001b[0madd\u001b[0m\u001b[0;34m(\u001b[0m\u001b[0mlink\u001b[0m\u001b[0;34m)\u001b[0m\u001b[0;34m\u001b[0m\u001b[0;34m\u001b[0m\u001b[0m\n",
      "\u001b[0;32m~/anaconda3/lib/python3.7/site-packages/selenium-4.0.0a3-py3.7.egg/selenium/webdriver/remote/webelement.py\u001b[0m in \u001b[0;36mget_attribute\u001b[0;34m(self, name)\u001b[0m\n\u001b[1;32m    140\u001b[0m             attributeValue = self.parent.execute_script(\n\u001b[1;32m    141\u001b[0m                 \u001b[0;34m\"return (%s).apply(null, arguments);\"\u001b[0m \u001b[0;34m%\u001b[0m \u001b[0mgetAttribute_js\u001b[0m\u001b[0;34m,\u001b[0m\u001b[0;34m\u001b[0m\u001b[0;34m\u001b[0m\u001b[0m\n\u001b[0;32m--> 142\u001b[0;31m                 self, name)\n\u001b[0m\u001b[1;32m    143\u001b[0m         \u001b[0;32melse\u001b[0m\u001b[0;34m:\u001b[0m\u001b[0;34m\u001b[0m\u001b[0;34m\u001b[0m\u001b[0m\n\u001b[1;32m    144\u001b[0m             \u001b[0mresp\u001b[0m \u001b[0;34m=\u001b[0m \u001b[0mself\u001b[0m\u001b[0;34m.\u001b[0m\u001b[0m_execute\u001b[0m\u001b[0;34m(\u001b[0m\u001b[0mCommand\u001b[0m\u001b[0;34m.\u001b[0m\u001b[0mGET_ELEMENT_ATTRIBUTE\u001b[0m\u001b[0;34m,\u001b[0m \u001b[0;34m{\u001b[0m\u001b[0;34m'name'\u001b[0m\u001b[0;34m:\u001b[0m \u001b[0mname\u001b[0m\u001b[0;34m}\u001b[0m\u001b[0;34m)\u001b[0m\u001b[0;34m\u001b[0m\u001b[0;34m\u001b[0m\u001b[0m\n",
      "\u001b[0;32m~/anaconda3/lib/python3.7/site-packages/selenium-4.0.0a3-py3.7.egg/selenium/webdriver/remote/webdriver.py\u001b[0m in \u001b[0;36mexecute_script\u001b[0;34m(self, script, *args)\u001b[0m\n\u001b[1;32m    667\u001b[0m         return self.execute(command, {\n\u001b[1;32m    668\u001b[0m             \u001b[0;34m'script'\u001b[0m\u001b[0;34m:\u001b[0m \u001b[0mscript\u001b[0m\u001b[0;34m,\u001b[0m\u001b[0;34m\u001b[0m\u001b[0;34m\u001b[0m\u001b[0m\n\u001b[0;32m--> 669\u001b[0;31m             'args': converted_args})['value']\n\u001b[0m\u001b[1;32m    670\u001b[0m \u001b[0;34m\u001b[0m\u001b[0m\n\u001b[1;32m    671\u001b[0m     \u001b[0;32mdef\u001b[0m \u001b[0mexecute_async_script\u001b[0m\u001b[0;34m(\u001b[0m\u001b[0mself\u001b[0m\u001b[0;34m,\u001b[0m \u001b[0mscript\u001b[0m\u001b[0;34m,\u001b[0m \u001b[0;34m*\u001b[0m\u001b[0margs\u001b[0m\u001b[0;34m)\u001b[0m\u001b[0;34m:\u001b[0m\u001b[0;34m\u001b[0m\u001b[0;34m\u001b[0m\u001b[0m\n",
      "\u001b[0;32m~/anaconda3/lib/python3.7/site-packages/selenium-4.0.0a3-py3.7.egg/selenium/webdriver/remote/webdriver.py\u001b[0m in \u001b[0;36mexecute\u001b[0;34m(self, driver_command, params)\u001b[0m\n\u001b[1;32m    316\u001b[0m         \u001b[0mresponse\u001b[0m \u001b[0;34m=\u001b[0m \u001b[0mself\u001b[0m\u001b[0;34m.\u001b[0m\u001b[0mcommand_executor\u001b[0m\u001b[0;34m.\u001b[0m\u001b[0mexecute\u001b[0m\u001b[0;34m(\u001b[0m\u001b[0mdriver_command\u001b[0m\u001b[0;34m,\u001b[0m \u001b[0mparams\u001b[0m\u001b[0;34m)\u001b[0m\u001b[0;34m\u001b[0m\u001b[0;34m\u001b[0m\u001b[0m\n\u001b[1;32m    317\u001b[0m         \u001b[0;32mif\u001b[0m \u001b[0mresponse\u001b[0m\u001b[0;34m:\u001b[0m\u001b[0;34m\u001b[0m\u001b[0;34m\u001b[0m\u001b[0m\n\u001b[0;32m--> 318\u001b[0;31m             \u001b[0mself\u001b[0m\u001b[0;34m.\u001b[0m\u001b[0merror_handler\u001b[0m\u001b[0;34m.\u001b[0m\u001b[0mcheck_response\u001b[0m\u001b[0;34m(\u001b[0m\u001b[0mresponse\u001b[0m\u001b[0;34m)\u001b[0m\u001b[0;34m\u001b[0m\u001b[0;34m\u001b[0m\u001b[0m\n\u001b[0m\u001b[1;32m    319\u001b[0m             response['value'] = self._unwrap_value(\n\u001b[1;32m    320\u001b[0m                 response.get('value', None))\n",
      "\u001b[0;32m~/anaconda3/lib/python3.7/site-packages/selenium-4.0.0a3-py3.7.egg/selenium/webdriver/remote/errorhandler.py\u001b[0m in \u001b[0;36mcheck_response\u001b[0;34m(self, response)\u001b[0m\n\u001b[1;32m    238\u001b[0m                 \u001b[0malert_text\u001b[0m \u001b[0;34m=\u001b[0m \u001b[0mvalue\u001b[0m\u001b[0;34m[\u001b[0m\u001b[0;34m'alert'\u001b[0m\u001b[0;34m]\u001b[0m\u001b[0;34m.\u001b[0m\u001b[0mget\u001b[0m\u001b[0;34m(\u001b[0m\u001b[0;34m'text'\u001b[0m\u001b[0;34m)\u001b[0m\u001b[0;34m\u001b[0m\u001b[0;34m\u001b[0m\u001b[0m\n\u001b[1;32m    239\u001b[0m             \u001b[0;32mraise\u001b[0m \u001b[0mexception_class\u001b[0m\u001b[0;34m(\u001b[0m\u001b[0mmessage\u001b[0m\u001b[0;34m,\u001b[0m \u001b[0mscreen\u001b[0m\u001b[0;34m,\u001b[0m \u001b[0mstacktrace\u001b[0m\u001b[0;34m,\u001b[0m \u001b[0malert_text\u001b[0m\u001b[0;34m)\u001b[0m\u001b[0;34m\u001b[0m\u001b[0;34m\u001b[0m\u001b[0m\n\u001b[0;32m--> 240\u001b[0;31m         \u001b[0;32mraise\u001b[0m \u001b[0mexception_class\u001b[0m\u001b[0;34m(\u001b[0m\u001b[0mmessage\u001b[0m\u001b[0;34m,\u001b[0m \u001b[0mscreen\u001b[0m\u001b[0;34m,\u001b[0m \u001b[0mstacktrace\u001b[0m\u001b[0;34m)\u001b[0m\u001b[0;34m\u001b[0m\u001b[0;34m\u001b[0m\u001b[0m\n\u001b[0m\u001b[1;32m    241\u001b[0m \u001b[0;34m\u001b[0m\u001b[0m\n\u001b[1;32m    242\u001b[0m     \u001b[0;32mdef\u001b[0m \u001b[0m_value_or_default\u001b[0m\u001b[0;34m(\u001b[0m\u001b[0mself\u001b[0m\u001b[0;34m,\u001b[0m \u001b[0mobj\u001b[0m\u001b[0;34m,\u001b[0m \u001b[0mkey\u001b[0m\u001b[0;34m,\u001b[0m \u001b[0mdefault\u001b[0m\u001b[0;34m)\u001b[0m\u001b[0;34m:\u001b[0m\u001b[0;34m\u001b[0m\u001b[0;34m\u001b[0m\u001b[0m\n",
      "\u001b[0;31mNoSuchWindowException\u001b[0m: Message: no such window: target window already closed\nfrom unknown error: web view not found\n  (Session info: chrome=79.0.3945.130)\nStacktrace:\n0   chromedriver                        0x00000001017abe29 chromedriver + 3817001\n1   chromedriver                        0x000000010173ff33 chromedriver + 3374899\n2   chromedriver                        0x00000001014c08bf chromedriver + 755903\n3   chromedriver                        0x00000001014ab90c chromedriver + 669964\n4   chromedriver                        0x0000000101449e35 chromedriver + 269877\n5   chromedriver                        0x000000010145572d chromedriver + 317229\n6   chromedriver                        0x00000001014494a3 chromedriver + 267427\n7   chromedriver                        0x0000000101422c0d chromedriver + 109581\n8   chromedriver                        0x0000000101423ba5 chromedriver + 113573\n9   chromedriver                        0x000000010176df6f chromedriver + 3563375\n10  chromedriver                        0x000000010177ae3a chromedriver + 3616314\n11  chromedriver                        0x000000010177abf7 chromedriver + 3615735\n12  chromedriver                        0x000000010174d699 chromedriver + 3430041\n13  chromedriver                        0x000000010177b692 chromedriver + 3618450\n14  chromedriver                        0x0000000101761e17 chromedriver + 3513879\n15  chromedriver                        0x0000000101790fe4 chromedriver + 3706852\n16  chromedriver                        0x00000001017b1fc7 chromedriver + 3841991\n17  libsystem_pthread.dylib             0x00007fff736b3d36 _pthread_start + 125\n18  libsystem_pthread.dylib             0x00007fff736b058f thread_start + 15\n"
     ]
    }
   ],
   "source": [
    "link_list = set()\n",
    "\n",
    "while get_comments():\n",
    "    comments = browser.find_elements_by_xpath(\"//a[contains(@class,'comments-post-meta__profile-link t-16 t-black t-bold tap-target ember-view')]\")\n",
    "    for comment in comments:\n",
    "        link = comment.get_attribute('href')\n",
    "        if not (link in link_list):\n",
    "            link_list.add(link)\n",
    "            current_tab = browser.current_window_handle\n",
    "            script = 'window.open(\"{}\");'.format(link)\n",
    "            browser.execute_script(script)\n",
    "            new_tab = [tab for tab in browser.window_handles if tab != current_tab][0]\n",
    "            browser.switch_to.window(new_tab)\n",
    "            time.sleep(3)\n",
    "            name = browser.find_element_by_xpath(\"//li[contains(@class,'inline t-24 t-black t-normal break-words')]\").text\n",
    "            location = browser.find_element_by_xpath(\"//li[contains(@class,'t-16 t-black t-normal inline-block')]\").text\n",
    "            experience = browser.find_elements_by_xpath(\"//span[contains(@class,'text-align-left ml2 t-14 t-black t-bold full-width lt-line-clamp lt-line-clamp--multi-line ember-view')]\")\n",
    "            if len(experience) == 1:\n",
    "                if(experience[0].text.find('University') >= 0 or experience[0].text.find('Institute') >= 0):\n",
    "                    university = experience[0].text\n",
    "                    company = 'N/A'\n",
    "                else:\n",
    "                    university = 'N/A'\n",
    "                    company = experience[0].text\n",
    "            else:\n",
    "                company = experience[0].text\n",
    "                university = experience[1].text\n",
    "            if company == university:\n",
    "                company = 'N/A'\n",
    "            experience_element = '//*[@id=\"experience-section\"]/ul'\n",
    "            SCROLL_PAUSE_TIME = 0.5\n",
    "            last_height = browser.execute_script(\"return document.body.scrollHeight\")\n",
    "            flag = 0\n",
    "            while not check_element(experience_element):\n",
    "                html = browser.find_element_by_tag_name('html')\n",
    "                html.send_keys(Keys.PAGE_DOWN)\n",
    "                time.sleep(SCROLL_PAUSE_TIME)\n",
    "                new_height = browser.execute_script(\"return document.body.scrollHeight\")\n",
    "                if new_height == last_height:\n",
    "                    flag = 1\n",
    "                    break\n",
    "                last_height = new_height\n",
    "            if flag == 0:\n",
    "                experience_elements = browser.find_element_by_xpath('//*[@id=\"experience-section\"]/ul')\n",
    "                experience_elements = experience_elements.find_elements_by_tag_name('li')\n",
    "                experiences = []\n",
    "                flag = 0\n",
    "                for experience in experience_elements:\n",
    "                    for i in range(4):\n",
    "                        experience = experience.find_elements_by_xpath(\".//*\")[0]\n",
    "                        if i == 3 and experience.get_attribute('class') == 'pv-entity__company-details':\n",
    "                            flag = 1\n",
    "                            break\n",
    "                    if flag == 1:\n",
    "                        break\n",
    "                    experience = experience.find_elements_by_xpath(\".//*\")[3]\n",
    "                    experiences.append(experience.text)\n",
    "                if flag == 1:\n",
    "                    experience_elements = browser.find_element_by_xpath(\"//ul[contains(@class,'pv-entity__position-group mt2')]\")\n",
    "                    experience_elements = experience_elements.find_elements_by_tag_name('li')\n",
    "                    for experience in experience_elements:\n",
    "                        experiences.append(experience.find_elements_by_xpath(\".//*\")[9].text)\n",
    "                profile_dict = {}\n",
    "                profile_dict['Name'] = name\n",
    "                profile_dict['Location'] = location\n",
    "                profile_dict['Profile Link'] = link\n",
    "                profile_dict['Company'] = company\n",
    "                profile_dict['University'] = university\n",
    "                profile_dict['Experiences'] = experiences\n",
    "                x = mycol.insert_one(profile_dict)\n",
    "            browser.close()\n",
    "            browser.implicitly_wait(10)\n",
    "            browser.switch_to_window(current_tab)\n",
    "\n",
    "    browser.find_element_by_xpath(\"//button[contains(@class,'button comments-comments-list__show-previous-button t-12 t-black t-normal hoverable-link-text')]\").click()\n",
    "    time.sleep(2)\n",
    "            "
   ]
  },
  {
   "cell_type": "code",
   "execution_count": null,
   "metadata": {},
   "outputs": [],
   "source": []
  }
 ],
 "metadata": {
  "kernelspec": {
   "display_name": "Python 3",
   "language": "python",
   "name": "python3"
  },
  "language_info": {
   "codemirror_mode": {
    "name": "ipython",
    "version": 3
   },
   "file_extension": ".py",
   "mimetype": "text/x-python",
   "name": "python",
   "nbconvert_exporter": "python",
   "pygments_lexer": "ipython3",
   "version": "3.7.3"
  }
 },
 "nbformat": 4,
 "nbformat_minor": 2
}
