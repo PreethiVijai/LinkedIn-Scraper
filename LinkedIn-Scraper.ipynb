{
 "cells": [
  {
   "cell_type": "code",
   "execution_count": 15,
   "metadata": {},
   "outputs": [],
   "source": [
    "from selenium import webdriver as wd\n",
    "from selenium.webdriver.common.keys import Keys\n",
    "from selenium.common.exceptions import NoSuchElementException\n",
    "import csv\n",
    "import pymongo as pm\n",
    "import time\n",
    "\n"
   ]
  },
  {
   "cell_type": "markdown",
   "metadata": {},
   "source": [
    "establishing client-db link"
   ]
  },
  {
   "cell_type": "code",
   "execution_count": 16,
   "metadata": {},
   "outputs": [],
   "source": [
    "myclient = pm.MongoClient(\"mongodb://localhost:27017/\")\n",
    "mydb = myclient[\"LinkedIn_repo\"] #LinkedIn_repo is the database\n",
    "mycol = mydb[\"profiles\"] #profiles is the collection\n"
   ]
  },
  {
   "cell_type": "markdown",
   "metadata": {},
   "source": [
    "Setting up login details to linkedIn and a chromedriver to launch chrome"
   ]
  },
  {
   "cell_type": "code",
   "execution_count": 61,
   "metadata": {},
   "outputs": [],
   "source": [
    "email = ''\n",
    "pwd = ''\n",
    "chrome_driver = ''\n",
    "link = '' #This is the link we want to scrape\n",
    "with open('Config.txt','r') as file:\n",
    "    lines = file.readlines()\n",
    "    email = lines[0].split()[1].strip()\n",
    "    pwd = lines[1].split()[1].strip()\n",
    "    chrome_driver = lines[2].split()[1].strip()\n",
    "    link = lines[3].split()[1].strip()\n",
    "file.close()\n",
    "\n",
    "browser=wd.Chrome(chrome_driver)\n",
    "browser.get('https://www.linkedin.com')\n",
    "time.sleep(1)\n",
    "browser.find_element_by_xpath('/html/body/nav/section[2]/form/div[1]/div[1]/input').send_keys(email)\n",
    "time.sleep(1)\n",
    "browser.find_element_by_xpath('/html/body/nav/section[2]/form/div[1]/div[2]/input').send_keys(pwd)\n",
    "time.sleep(1)\n",
    "browser.find_element_by_xpath('/html/body/nav/section[2]/form/div[2]/button').click()\n",
    "time.sleep(1)\n",
    "browser.get(link)\n",
    "time.sleep(1)\n"
   ]
  },
  {
   "cell_type": "markdown",
   "metadata": {},
   "source": [
    "Code to get the comments in a LinkedIn post"
   ]
  },
  {
   "cell_type": "code",
   "execution_count": 62,
   "metadata": {},
   "outputs": [],
   "source": [
    "def get_comments():\n",
    "    try:\n",
    "        browser.find_element_by_xpath(\"//button[contains(@class,'button comments-comments-list__show-previous-button t-12 t-black t-normal hoverable-link-text')]\")\n",
    "    except NoSuchElementException:\n",
    "        return False\n",
    "    return True"
   ]
  },
  {
   "cell_type": "markdown",
   "metadata": {},
   "source": [
    "Code to examine an element in source code"
   ]
  },
  {
   "cell_type": "code",
   "execution_count": 63,
   "metadata": {},
   "outputs": [],
   "source": [
    "def check_element(element):\n",
    "    try:\n",
    "        browser.find_element_by_xpath(element)\n",
    "    except NoSuchElementException:\n",
    "        return False\n",
    "    return True"
   ]
  },
  {
   "cell_type": "code",
   "execution_count": 64,
   "metadata": {},
   "outputs": [
    {
     "ename": "AttributeError",
     "evalue": "'WebDriver' object has no attribute 'switchTo'",
     "output_type": "error",
     "traceback": [
      "\u001b[0;31m---------------------------------------------------------------------------\u001b[0m",
      "\u001b[0;31mAttributeError\u001b[0m                            Traceback (most recent call last)",
      "\u001b[0;32m<ipython-input-64-2b39911dd99e>\u001b[0m in \u001b[0;36m<module>\u001b[0;34m\u001b[0m\n\u001b[1;32m     70\u001b[0m                 \u001b[0mx\u001b[0m \u001b[0;34m=\u001b[0m \u001b[0mmycol\u001b[0m\u001b[0;34m.\u001b[0m\u001b[0minsert_one\u001b[0m\u001b[0;34m(\u001b[0m\u001b[0mprofile_dict\u001b[0m\u001b[0;34m)\u001b[0m\u001b[0;34m\u001b[0m\u001b[0;34m\u001b[0m\u001b[0m\n\u001b[1;32m     71\u001b[0m             \u001b[0mbrowser\u001b[0m\u001b[0;34m.\u001b[0m\u001b[0mclose\u001b[0m\u001b[0;34m(\u001b[0m\u001b[0;34m)\u001b[0m\u001b[0;34m\u001b[0m\u001b[0;34m\u001b[0m\u001b[0m\n\u001b[0;32m---> 72\u001b[0;31m             \u001b[0mbrowser\u001b[0m\u001b[0;34m.\u001b[0m\u001b[0mswitchTo\u001b[0m\u001b[0;34m(\u001b[0m\u001b[0;34m)\u001b[0m\u001b[0;34m.\u001b[0m\u001b[0mwindow\u001b[0m\u001b[0;34m(\u001b[0m\u001b[0mcurrent_tab\u001b[0m\u001b[0;34m)\u001b[0m\u001b[0;34m\u001b[0m\u001b[0;34m\u001b[0m\u001b[0m\n\u001b[0m\u001b[1;32m     73\u001b[0m \u001b[0;34m\u001b[0m\u001b[0m\n\u001b[1;32m     74\u001b[0m     \u001b[0mbrowser\u001b[0m\u001b[0;34m.\u001b[0m\u001b[0mfind_element_by_xpath\u001b[0m\u001b[0;34m(\u001b[0m\u001b[0;34m\"//button[contains(@class,'button comments-comments-list__show-previous-button t-12 t-black t-normal hoverable-link-text')]\"\u001b[0m\u001b[0;34m)\u001b[0m\u001b[0;34m.\u001b[0m\u001b[0mclick\u001b[0m\u001b[0;34m(\u001b[0m\u001b[0;34m)\u001b[0m\u001b[0;34m\u001b[0m\u001b[0;34m\u001b[0m\u001b[0m\n",
      "\u001b[0;31mAttributeError\u001b[0m: 'WebDriver' object has no attribute 'switchTo'"
     ]
    }
   ],
   "source": [
    "link_list = set()\n",
    "\n",
    "while get_comments():\n",
    "    comments = browser.find_elements_by_xpath(\"//a[contains(@class,'comments-post-meta__profile-link t-16 t-black t-bold tap-target ember-view')]\")\n",
    "    for comment in comments:\n",
    "        link = comment.get_attribute('href')\n",
    "        if not (link in link_list):\n",
    "            link_list.add(link)\n",
    "            current_tab = browser.current_window_handle\n",
    "            script = 'window.open(\"{}\");'.format(link)\n",
    "            browser.execute_script(script)\n",
    "            new_tab = [tab for tab in browser.window_handles if tab != current_tab][0]\n",
    "            browser.switch_to.window(new_tab)\n",
    "            time.sleep(3)\n",
    "            name = browser.find_element_by_xpath(\"//li[contains(@class,'inline t-24 t-black t-normal break-words')]\").text\n",
    "            location = browser.find_element_by_xpath(\"//li[contains(@class,'t-16 t-black t-normal inline-block')]\").text\n",
    "            experience = browser.find_elements_by_xpath(\"//span[contains(@class,'text-align-left ml2 t-14 t-black t-bold full-width lt-line-clamp lt-line-clamp--multi-line ember-view')]\")\n",
    "            if len(experience) == 1:\n",
    "                if(experience[0].text.find('University') >= 0 or experience[0].text.find('Institute') >= 0):\n",
    "                    university = experience[0].text\n",
    "                    company = 'N/A'\n",
    "                else:\n",
    "                    university = 'N/A'\n",
    "                    company = experience[0].text\n",
    "            else:\n",
    "                company = experience[0].text\n",
    "                university = experience[1].text\n",
    "            if company == university:\n",
    "                company = 'N/A'\n",
    "            experience_element = '//*[@id=\"experience-section\"]/ul'\n",
    "            SCROLL_PAUSE_TIME = 0.5\n",
    "            last_height = browser.execute_script(\"return document.body.scrollHeight\")\n",
    "            flag = 0\n",
    "            while not check_element(experience_element):\n",
    "                html = browser.find_element_by_tag_name('html')\n",
    "                html.send_keys(Keys.PAGE_DOWN)\n",
    "                time.sleep(SCROLL_PAUSE_TIME)\n",
    "                new_height = browser.execute_script(\"return document.body.scrollHeight\")\n",
    "                if new_height == last_height:\n",
    "                    flag = 1\n",
    "                    break\n",
    "                last_height = new_height\n",
    "            if flag == 0:\n",
    "                experience_elements = browser.find_element_by_xpath('//*[@id=\"experience-section\"]/ul')\n",
    "                experience_elements = experience_elements.find_elements_by_tag_name('li')\n",
    "                experiences = []\n",
    "                flag = 0\n",
    "                for experience in experience_elements:\n",
    "                    for i in range(4):\n",
    "                        experience = experience.find_elements_by_xpath(\".//*\")[0]\n",
    "                        if i == 3 and experience.get_attribute('class') == 'pv-entity__company-details':\n",
    "                            flag = 1\n",
    "                            break\n",
    "                    if flag == 1:\n",
    "                        break\n",
    "                    experience = experience.find_elements_by_xpath(\".//*\")[3]\n",
    "                    experiences.append(experience.text)\n",
    "                if flag == 1:\n",
    "                    experience_elements = browser.find_element_by_xpath(\"//ul[contains(@class,'pv-entity__position-group mt2')]\")\n",
    "                    experience_elements = experience_elements.find_elements_by_tag_name('li')\n",
    "                    for experience in experience_elements:\n",
    "                        experiences.append(experience.find_elements_by_xpath(\".//*\")[9].text)\n",
    "                profile_dict = {}\n",
    "                profile_dict['Name'] = name\n",
    "                profile_dict['Location'] = location\n",
    "                profile_dict['Profile Link'] = link\n",
    "                profile_dict['Company'] = company\n",
    "                profile_dict['University'] = university\n",
    "                profile_dict['Experiences'] = experiences\n",
    "                x = mycol.insert_one(profile_dict)\n",
    "            browser.close()\n",
    "            browser.switchTo().window(current_tab)\n",
    "\n",
    "    browser.find_element_by_xpath(\"//button[contains(@class,'button comments-comments-list__show-previous-button t-12 t-black t-normal hoverable-link-text')]\").click()\n",
    "    time.sleep(2)\n",
    "            "
   ]
  },
  {
   "cell_type": "code",
   "execution_count": null,
   "metadata": {},
   "outputs": [],
   "source": []
  }
 ],
 "metadata": {
  "kernelspec": {
   "display_name": "Python 3",
   "language": "python",
   "name": "python3"
  },
  "language_info": {
   "codemirror_mode": {
    "name": "ipython",
    "version": 3
   },
   "file_extension": ".py",
   "mimetype": "text/x-python",
   "name": "python",
   "nbconvert_exporter": "python",
   "pygments_lexer": "ipython3",
   "version": "3.7.3"
  }
 },
 "nbformat": 4,
 "nbformat_minor": 2
}
